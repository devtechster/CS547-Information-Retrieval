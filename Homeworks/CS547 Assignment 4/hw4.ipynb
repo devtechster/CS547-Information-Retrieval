{
 "cells": [
  {
   "cell_type": "markdown",
   "metadata": {},
   "source": [
    "# HW4: implementing item-based CF with cosine\n",
    "First, run recommenderDemo.ipynb and be familar with the code and data.\n",
    "Second, implement item-based CF with cosine"
   ]
  },
  {
   "cell_type": "code",
   "execution_count": 21,
   "metadata": {},
   "outputs": [],
   "source": [
    "import gzip\n",
    "from collections import defaultdict\n",
    "import scipy\n",
    "import scipy.optimize\n",
    "import numpy as np\n",
    "import random\n",
    "import pandas as pd\n",
    "import sys"
   ]
  },
  {
   "cell_type": "markdown",
   "metadata": {},
   "source": [
    "1. load the data, and convert integer-valued fields as we go. Note that here we use the same \"Musical Instruments\" dataset. Download the date from here: https://web.cs.wpi.edu/~kmlee/cs547/amazon_reviews_us_Musical_Instruments_v1_00_small.tsv.gz\n",
    "The dataset contains 20K user-item reviews."
   ]
  },
  {
   "cell_type": "code",
   "execution_count": 22,
   "metadata": {},
   "outputs": [
    {
     "name": "stdout",
     "output_type": "stream",
     "text": [
      "['marketplace', 'customer_id', 'review_id', 'product_id', 'product_parent', 'product_title', 'product_category', 'star_rating', 'helpful_votes', 'total_votes', 'vine', 'verified_purchase', 'review_headline', 'review_body', 'review_date']\n"
     ]
    }
   ],
   "source": [
    "# From https://web.cs.wpi.edu/~kmlee/cs547/amazon_reviews_us_Musical_Instruments_v1_00_small.tsv.gz\n",
    "#----------------------------------------------\n",
    "# Your code starts here\n",
    "#   Please add comments or text cells in between to explain the general idea of each block of the code.\n",
    "#   Please feel free to add more cells below this cell if necessary\n",
    "\n",
    "path = \"./amazon_reviews_us_Musical_Instruments_v1_00_small.tsv.gz\"\n",
    "file = gzip.open(path, 'rt', encoding=\"utf8\")\n",
    "header = file.readline()\n",
    "header = header.strip().split('\\t')\n",
    "print(header)"
   ]
  },
  {
   "cell_type": "markdown",
   "metadata": {},
   "source": [
    "2. now store the loaded data into a matrix -- you may use numpy array/matrix to store the untility matrix or use sparse matrix (advanced approach)"
   ]
  },
  {
   "cell_type": "code",
   "execution_count": 23,
   "metadata": {},
   "outputs": [
    {
     "data": {
      "text/plain": [
       "20000"
      ]
     },
     "execution_count": 23,
     "metadata": {},
     "output_type": "execute_result"
    }
   ],
   "source": [
    "my_dataset =[]\n",
    "\n",
    "for single_line in file :\n",
    "    fields = single_line.strip().split('\\t')\n",
    "    d = dict(zip(header, fields))\n",
    "    d['star_rating'] = int(d['star_rating'])\n",
    "    d['helpful_votes'] = int(d['helpful_votes'])\n",
    "    d['total_votes'] = int(d['total_votes'])\n",
    "    d['customer_id']=str(d['customer_id'])\n",
    "    d['product_id']=str(d['product_id'])\n",
    "    my_dataset.append(d)\n",
    "\n",
    "len(my_dataset)"
   ]
  },
  {
   "cell_type": "code",
   "execution_count": 24,
   "metadata": {},
   "outputs": [
    {
     "data": {
      "text/html": [
       "<div>\n",
       "<style scoped>\n",
       "    .dataframe tbody tr th:only-of-type {\n",
       "        vertical-align: middle;\n",
       "    }\n",
       "\n",
       "    .dataframe tbody tr th {\n",
       "        vertical-align: top;\n",
       "    }\n",
       "\n",
       "    .dataframe thead th {\n",
       "        text-align: right;\n",
       "    }\n",
       "</style>\n",
       "<table border=\"1\" class=\"dataframe\">\n",
       "  <thead>\n",
       "    <tr style=\"text-align: right;\">\n",
       "      <th></th>\n",
       "      <th>marketplace</th>\n",
       "      <th>customer_id</th>\n",
       "      <th>review_id</th>\n",
       "      <th>product_id</th>\n",
       "      <th>product_parent</th>\n",
       "      <th>product_title</th>\n",
       "      <th>product_category</th>\n",
       "      <th>star_rating</th>\n",
       "      <th>helpful_votes</th>\n",
       "      <th>total_votes</th>\n",
       "      <th>vine</th>\n",
       "      <th>verified_purchase</th>\n",
       "      <th>review_headline</th>\n",
       "      <th>review_body</th>\n",
       "      <th>review_date</th>\n",
       "    </tr>\n",
       "  </thead>\n",
       "  <tbody>\n",
       "    <tr>\n",
       "      <th>0</th>\n",
       "      <td>US</td>\n",
       "      <td>45610553</td>\n",
       "      <td>RMDCHWD0Y5OZ9</td>\n",
       "      <td>B00HH62VB6</td>\n",
       "      <td>618218723</td>\n",
       "      <td>AGPtek® 10 Isolated Output 9V 12V 18V Guitar P...</td>\n",
       "      <td>Musical Instruments</td>\n",
       "      <td>3</td>\n",
       "      <td>0</td>\n",
       "      <td>1</td>\n",
       "      <td>N</td>\n",
       "      <td>N</td>\n",
       "      <td>Three Stars</td>\n",
       "      <td>Works very good, but induces ALOT of noise.</td>\n",
       "      <td>2015-08-31</td>\n",
       "    </tr>\n",
       "    <tr>\n",
       "      <th>1</th>\n",
       "      <td>US</td>\n",
       "      <td>14640079</td>\n",
       "      <td>RZSL0BALIYUNU</td>\n",
       "      <td>B003LRN53I</td>\n",
       "      <td>986692292</td>\n",
       "      <td>Sennheiser HD203 Closed-Back DJ Headphones</td>\n",
       "      <td>Musical Instruments</td>\n",
       "      <td>5</td>\n",
       "      <td>0</td>\n",
       "      <td>0</td>\n",
       "      <td>N</td>\n",
       "      <td>Y</td>\n",
       "      <td>Five Stars</td>\n",
       "      <td>Nice headphones at a reasonable price.</td>\n",
       "      <td>2015-08-31</td>\n",
       "    </tr>\n",
       "    <tr>\n",
       "      <th>2</th>\n",
       "      <td>US</td>\n",
       "      <td>6111003</td>\n",
       "      <td>RIZR67JKUDBI0</td>\n",
       "      <td>B0006VMBHI</td>\n",
       "      <td>603261968</td>\n",
       "      <td>AudioQuest LP record clean brush</td>\n",
       "      <td>Musical Instruments</td>\n",
       "      <td>3</td>\n",
       "      <td>0</td>\n",
       "      <td>1</td>\n",
       "      <td>N</td>\n",
       "      <td>Y</td>\n",
       "      <td>Three Stars</td>\n",
       "      <td>removes dust. does not clean</td>\n",
       "      <td>2015-08-31</td>\n",
       "    </tr>\n",
       "    <tr>\n",
       "      <th>3</th>\n",
       "      <td>US</td>\n",
       "      <td>1546619</td>\n",
       "      <td>R27HL570VNL85F</td>\n",
       "      <td>B002B55TRG</td>\n",
       "      <td>575084461</td>\n",
       "      <td>Hohner Inc. 560BX-BF Special Twenty Harmonica</td>\n",
       "      <td>Musical Instruments</td>\n",
       "      <td>5</td>\n",
       "      <td>0</td>\n",
       "      <td>0</td>\n",
       "      <td>N</td>\n",
       "      <td>Y</td>\n",
       "      <td>I purchase these for a friend in return for pl...</td>\n",
       "      <td>I purchase these for a friend in return for pl...</td>\n",
       "      <td>2015-08-31</td>\n",
       "    </tr>\n",
       "    <tr>\n",
       "      <th>4</th>\n",
       "      <td>US</td>\n",
       "      <td>12222213</td>\n",
       "      <td>R34EBU9QDWJ1GD</td>\n",
       "      <td>B00N1YPXW2</td>\n",
       "      <td>165236328</td>\n",
       "      <td>Blue Yeti USB Microphone - Blackout Edition</td>\n",
       "      <td>Musical Instruments</td>\n",
       "      <td>5</td>\n",
       "      <td>0</td>\n",
       "      <td>0</td>\n",
       "      <td>N</td>\n",
       "      <td>Y</td>\n",
       "      <td>Five Stars</td>\n",
       "      <td>This is an awesome mic!</td>\n",
       "      <td>2015-08-31</td>\n",
       "    </tr>\n",
       "  </tbody>\n",
       "</table>\n",
       "</div>"
      ],
      "text/plain": [
       "  marketplace customer_id       review_id  product_id product_parent  \\\n",
       "0          US    45610553   RMDCHWD0Y5OZ9  B00HH62VB6      618218723   \n",
       "1          US    14640079   RZSL0BALIYUNU  B003LRN53I      986692292   \n",
       "2          US     6111003   RIZR67JKUDBI0  B0006VMBHI      603261968   \n",
       "3          US     1546619  R27HL570VNL85F  B002B55TRG      575084461   \n",
       "4          US    12222213  R34EBU9QDWJ1GD  B00N1YPXW2      165236328   \n",
       "\n",
       "                                       product_title     product_category  \\\n",
       "0  AGPtek® 10 Isolated Output 9V 12V 18V Guitar P...  Musical Instruments   \n",
       "1         Sennheiser HD203 Closed-Back DJ Headphones  Musical Instruments   \n",
       "2                   AudioQuest LP record clean brush  Musical Instruments   \n",
       "3      Hohner Inc. 560BX-BF Special Twenty Harmonica  Musical Instruments   \n",
       "4        Blue Yeti USB Microphone - Blackout Edition  Musical Instruments   \n",
       "\n",
       "   star_rating  helpful_votes  total_votes vine verified_purchase  \\\n",
       "0            3              0            1    N                 N   \n",
       "1            5              0            0    N                 Y   \n",
       "2            3              0            1    N                 Y   \n",
       "3            5              0            0    N                 Y   \n",
       "4            5              0            0    N                 Y   \n",
       "\n",
       "                                     review_headline  \\\n",
       "0                                        Three Stars   \n",
       "1                                         Five Stars   \n",
       "2                                        Three Stars   \n",
       "3  I purchase these for a friend in return for pl...   \n",
       "4                                         Five Stars   \n",
       "\n",
       "                                         review_body review_date  \n",
       "0        Works very good, but induces ALOT of noise.  2015-08-31  \n",
       "1             Nice headphones at a reasonable price.  2015-08-31  \n",
       "2                       removes dust. does not clean  2015-08-31  \n",
       "3  I purchase these for a friend in return for pl...  2015-08-31  \n",
       "4                            This is an awesome mic!  2015-08-31  "
      ]
     },
     "execution_count": 24,
     "metadata": {},
     "output_type": "execute_result"
    }
   ],
   "source": [
    "my_dataframe = pd.DataFrame(my_dataset)# Storing in dataframe\n",
    "my_dataframe.head()\n"
   ]
  },
  {
   "cell_type": "code",
   "execution_count": 25,
   "metadata": {},
   "outputs": [
    {
     "name": "stdout",
     "output_type": "stream",
     "text": [
      "[1 2 3 4 5]\n"
     ]
    }
   ],
   "source": [
    "print(np.unique(my_dataframe['star_rating']))"
   ]
  },
  {
   "cell_type": "code",
   "execution_count": 26,
   "metadata": {},
   "outputs": [],
   "source": [
    "matrix = my_dataframe.pivot_table(index='product_id', columns='customer_id', values='star_rating').fillna(0)\n"
   ]
  },
  {
   "cell_type": "code",
   "execution_count": 27,
   "metadata": {},
   "outputs": [
    {
     "data": {
      "text/plain": [
       "5.0"
      ]
     },
     "execution_count": 27,
     "metadata": {},
     "output_type": "execute_result"
    }
   ],
   "source": [
    "matrix.loc['B003LRN53I','14640079']\n"
   ]
  },
  {
   "cell_type": "code",
   "execution_count": 28,
   "metadata": {},
   "outputs": [
    {
     "data": {
      "text/plain": [
       "3.0"
      ]
     },
     "execution_count": 28,
     "metadata": {},
     "output_type": "execute_result"
    }
   ],
   "source": [
    "matrix.loc['B0006VMBHI','6111003']\n",
    "\n"
   ]
  },
  {
   "cell_type": "code",
   "execution_count": 29,
   "metadata": {},
   "outputs": [
    {
     "data": {
      "text/plain": [
       "(11182, 15342)"
      ]
     },
     "execution_count": 29,
     "metadata": {},
     "output_type": "execute_result"
    }
   ],
   "source": [
    "matrix.shape"
   ]
  },
  {
   "cell_type": "code",
   "execution_count": 30,
   "metadata": {},
   "outputs": [
    {
     "data": {
      "text/plain": [
       "1373.44741"
      ]
     },
     "execution_count": 30,
     "metadata": {},
     "output_type": "execute_result"
    }
   ],
   "source": [
    "sys.getsizeof(matrix)/1000000"
   ]
  },
  {
   "cell_type": "code",
   "execution_count": 31,
   "metadata": {},
   "outputs": [],
   "source": [
    "usersPerSingleItem = defaultdict(set)\n",
    "\n",
    "reviewsPerSingleUser = defaultdict(list)\n",
    "reviewsPerSingleItem = defaultdict(list)\n",
    "\n",
    "for iterator in my_dataset:\n",
    "    user,item = iterator['customer_id'], iterator['product_id']\n",
    "    reviewsPerSingleUser[user].append(iterator)\n",
    "    reviewsPerSingleItem[item].append(iterator)"
   ]
  },
  {
   "cell_type": "markdown",
   "metadata": {},
   "source": [
    "3. Implement cosine function and rating prediction function by using the cosine function. If a hasn't rated any similar items before, then return ratingMean (i.e., global rating mean). Refer to predictRating() in hw4jaccard.ipynb"
   ]
  },
  {
   "cell_type": "code",
   "execution_count": 32,
   "metadata": {},
   "outputs": [],
   "source": [
    "def Cosine(a,b):\n",
    "    a=np.array(a)\n",
    "    b=np.array(b)\n",
    "    \n",
    "    for itr in range(len(a)):\n",
    "        if a[itr]!=0:\n",
    "            a[itr]=a[itr]-np.mean(a)\n",
    "        if b[itr]!=0:\n",
    "              b[itr]=b[itr]-np.mean(b)\n",
    "              \n",
    "    return np.round(np.dot(a,b)/(np.sqrt((a*a).sum())*np.sqrt((b*b).sum())),4)\n",
    "\n",
    "ratingMean = sum([d['star_rating'] for d in my_dataset]) / len(my_dataset)\n",
    "\n",
    "def predictRatingCosine(user,item):\n",
    "\n",
    "    ratings = []\n",
    "    similarities = []\n",
    "    for d in reviewsPerSingleUser[user]:\n",
    "        i2 = d['product_id']\n",
    "        if i2 == item: continue\n",
    "        ratings.append(matrix.loc[i2,user])\n",
    "        similarities.append(Cosine(matrix.loc[i2].values,matrix.loc[item].values))\n",
    "    if (sum(similarities) > 0):\n",
    "        weightedRatings = [(x*y) for x,y in zip(ratings,similarities)]\n",
    "        return sum(weightedRatings) / sum(similarities)\n",
    "    else:\n",
    "        # User hasn't rated any similar items\n",
    "        return ratingMean"
   ]
  },
  {
   "cell_type": "code",
   "execution_count": 33,
   "metadata": {},
   "outputs": [],
   "source": [
    "labels = [d['star_rating'] for d in my_dataset]"
   ]
  },
  {
   "cell_type": "markdown",
   "metadata": {},
   "source": [
    "4. Measure and report MSE (don't need to change the below code)"
   ]
  },
  {
   "cell_type": "code",
   "execution_count": null,
   "metadata": {},
   "outputs": [],
   "source": [
    "def MSE(predictions, labels):\n",
    "    differences = [(x-y)**2 for x,y in zip(predictions,labels)]\n",
    "    return sum(differences) / len(differences)\n",
    "\n",
    "cfPredictions = [predictRatingCosine(d['customer_id'], d['product_id']) for d in my_dataset]\n"
   ]
  },
  {
   "cell_type": "code",
   "execution_count": null,
   "metadata": {},
   "outputs": [],
   "source": [
    "print(MSE(cfPredictions, labels))"
   ]
  },
  {
   "cell_type": "code",
   "execution_count": null,
   "metadata": {},
   "outputs": [],
   "source": [
    "alwaysPredictMean = [ratingMean for d in my_dataset]"
   ]
  },
  {
   "cell_type": "code",
   "execution_count": null,
   "metadata": {},
   "outputs": [],
   "source": [
    "MSE(alwaysPredictMean, labels)"
   ]
  },
  {
   "cell_type": "markdown",
   "metadata": {},
   "source": [
    "(optional/bonus task: you will get additional 25 points) \n",
    "download https://web.cs.wpi.edu/~kmlee/cs547/amazon_reviews_us_Musical_Instruments_v1_00_large.tsv.gz\n",
    "this dataset contains over 900K user-item reviews. repeat the above process (i.e., meauring MSE with cosine). report the MSE and compare it with MSE of alwaysPredictMean. This optional task would require better data structure and implementation."
   ]
  },
  {
   "cell_type": "code",
   "execution_count": null,
   "metadata": {},
   "outputs": [],
   "source": [
    "import gzip\n",
    "from collections import defaultdict\n",
    "import scipy.sparse\n",
    "import numpy as np\n",
    "import random\n",
    "import pandas as pd\n",
    "\n",
    "# Load the dataset\n",
    "path = \"./amazon_reviews_us_Musical_Instruments_v1_00_large.tsv.gz\"\n",
    "\n",
    "f = gzip.open(path, 'rt', encoding=\"utf8\")\n",
    "\n",
    "header = f.readline().strip().split('\\t')\n",
    "dataset = []\n",
    "\n",
    "for line in f:\n",
    "    fields = line.strip().split('\\t')\n",
    "    d = dict(zip(header, fields))\n",
    "    d['star_rating'] = int(d['star_rating'])\n",
    "    d['helpful_votes'] = int(d['helpful_votes'])\n",
    "    d['total_votes'] = int(d['total_votes'])\n",
    "    d['customer_id'] = str(d['customer_id'])\n",
    "    d['product_id'] = str(d['product_id'])\n",
    "    dataset.append(d)\n",
    "\n",
    "# Create a pandas DataFrame\n",
    "df = pd.DataFrame(dataset)\n",
    "\n",
    "# Create a sparse matrix\n",
    "data = df['star_rating'].tolist()\n",
    "row = df['product_id'].astype('category').cat.codes.tolist()\n",
    "col = df['customer_id'].astype('category').cat.codes.tolist()\n",
    "matrix = scipy.sparse.coo_matrix((data, (row, col)), shape=(max(row)+1, max(col)+1))\n",
    "\n",
    "# Create dictionaries for reviews per user and per item\n",
    "reviewsPerUser = defaultdict(list)\n",
    "reviewsPerItem = defaultdict(list)\n",
    "for d in dataset:\n",
    "    user, item = d['customer_id'], d['product_id']\n",
    "    reviewsPerUser[user].append(d)\n",
    "    reviewsPerItem[item].append(d)\n",
    "\n",
    "# Define a function for cosine similarity\n",
    "def Cosine(s1, s2):\n",
    "    s1 = np.array(s1)\n",
    "    s2 = np.array(s2)\n",
    "    s1[s1 != 0] -= np.mean(s1[s1 != 0])\n",
    "    s2[s2 != 0] -= np.mean(s2[s2 != 0])\n",
    "    return np.round(np.dot(s1, s2) / (np.sqrt((s1*s1).sum()) * np.sqrt((s2*s2).sum())), 4)\n",
    "\n",
    "# Define a function for predicting rating using cosine similarity\n",
    "ratingMean = sum([d['star_rating'] for d in dataset]) / len(dataset)\n",
    "def predictRatingCosine(user, item):\n",
    "    ratings = []\n",
    "    similarities = []\n",
    "    for d in reviewsPerUser[user]:\n",
    "        i2 = d['product_id']\n",
    "        if i2 == item:\n",
    "            continue\n",
    "        ratings.append(matrix.loc[i2, user])\n",
    "        similarities.append(Cosine(matrix.loc[i2].toarray()[0], matrix.loc[item].toarray()[0]))\n",
    "    if sum(similarities) > 0:\n",
    "        weightedRatings = [(x*y) for x, y in zip(ratings, similarities)]\n",
    "        return sum(weightedRatings) / sum(similarities)\n",
    "    else:\n",
    "        # User hasn't rated any similar items\n",
    "        return ratingMean\n",
    "\n",
    "def MSE(predictions, labels):\n",
    "    differences = [(x-y)**2 for x,y in zip(predictions,labels)]\n",
    "    return sum(differences) / len(differences)\n",
    "\n",
    "cfPredictions = [predictRatingCosine(d['customer_id'], d['product_id']) for d in dataset]\n",
    "print(MSE(cfPredictions, labels))\n"
   ]
  },
  {
   "cell_type": "markdown",
   "metadata": {},
   "source": []
  },
  {
   "cell_type": "markdown",
   "metadata": {},
   "source": [
    "*-----------------\n",
    "# Done\n",
    "\n",
    "All set! \n",
    "\n",
    "** What do you need to submit?**\n",
    "\n",
    "* **hw4.ipynb Notebook File**: Save this Jupyter notebook with all output, and find the notebook file in your folder (for example, \"filename.ipynb\"). This is the file you need to submit. \n",
    "\n",
    "** How to submit: **\n",
    "        Please submit through canvas.wpi.edu\n"
   ]
  }
 ],
 "metadata": {
  "kernelspec": {
   "display_name": "Python 3 (ipykernel)",
   "language": "python",
   "name": "python3"
  },
  "language_info": {
   "codemirror_mode": {
    "name": "ipython",
    "version": 3
   },
   "file_extension": ".py",
   "mimetype": "text/x-python",
   "name": "python",
   "nbconvert_exporter": "python",
   "pygments_lexer": "ipython3",
   "version": "3.11.1"
  }
 },
 "nbformat": 4,
 "nbformat_minor": 2
}
