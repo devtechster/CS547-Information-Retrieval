{
 "cells": [
  {
   "cell_type": "markdown",
   "metadata": {},
   "source": [
    "# HW4: implementing item-based CF with cosine\n",
    "First, run recommenderDemo.ipynb and be familar with the code and data.\n",
    "Second, implement item-based CF with cosine"
   ]
  },
  {
   "cell_type": "code",
   "execution_count": 1,
   "metadata": {},
   "outputs": [],
   "source": [
    "import gzip\n",
    "from collections import defaultdict\n",
    "import scipy\n",
    "import scipy.optimize\n",
    "import numpy as np\n",
    "import random\n",
    "import pandas as pd"
   ]
  },
  {
   "cell_type": "markdown",
   "metadata": {},
   "source": [
    "1. load the data, and convert integer-valued fields as we go. Note that here we use the same \"Musical Instruments\" dataset. Download the date from here: https://web.cs.wpi.edu/~kmlee/cs547/amazon_reviews_us_Musical_Instruments_v1_00_small.tsv.gz\n",
    "The dataset contains 20K user-item reviews."
   ]
  },
  {
   "cell_type": "code",
   "execution_count": 2,
   "metadata": {},
   "outputs": [],
   "source": [
    "# From https://web.cs.wpi.edu/~kmlee/cs547/amazon_reviews_us_Musical_Instruments_v1_00_small.tsv.gz\n",
    "#----------------------------------------------\n",
    "# Your code starts here\n",
    "#   Please add comments or text cells in between to explain the general idea of each block of the code.\n",
    "#   Please feel free to add more cells below this cell if necessary\n",
    "path = \"./amazon_reviews_us_Musical_Instruments_v1_00_small.tsv.gz\"\n",
    "f = gzip.open(path, 'rt', encoding=\"utf8\")"
   ]
  },
  {
   "cell_type": "code",
   "execution_count": 3,
   "metadata": {},
   "outputs": [],
   "source": [
    "header = f.readline()\n",
    "header = header.strip().split('\\t')"
   ]
  },
  {
   "cell_type": "code",
   "execution_count": 4,
   "metadata": {},
   "outputs": [
    {
     "name": "stdout",
     "output_type": "stream",
     "text": [
      "['marketplace', 'customer_id', 'review_id', 'product_id', 'product_parent', 'product_title', 'product_category', 'star_rating', 'helpful_votes', 'total_votes', 'vine', 'verified_purchase', 'review_headline', 'review_body', 'review_date']\n"
     ]
    }
   ],
   "source": [
    "print(header)"
   ]
  },
  {
   "cell_type": "code",
   "execution_count": 5,
   "metadata": {},
   "outputs": [],
   "source": [
    "dataset = []"
   ]
  },
  {
   "cell_type": "code",
   "execution_count": 6,
   "metadata": {},
   "outputs": [],
   "source": [
    "for line in f:\n",
    "    fields = line.strip().split('\\t')\n",
    "    d = dict(zip(header, fields))\n",
    "    d['star_rating'] = int(d['star_rating'])\n",
    "    d['helpful_votes'] = int(d['helpful_votes'])\n",
    "    d['total_votes'] = int(d['total_votes'])\n",
    "    d['customer_id']=str(d['customer_id'])\n",
    "    d['product_id']=str(d['product_id'])\n",
    "    dataset.append(d)"
   ]
  },
  {
   "cell_type": "code",
   "execution_count": 7,
   "metadata": {},
   "outputs": [
    {
     "data": {
      "text/plain": [
       "20000"
      ]
     },
     "execution_count": 7,
     "metadata": {},
     "output_type": "execute_result"
    }
   ],
   "source": [
    "len(dataset)"
   ]
  },
  {
   "cell_type": "markdown",
   "metadata": {},
   "source": [
    "2. now store the loaded data into a matrix -- you may use numpy array/matrix to store the untility matrix or use sparse matrix (advanced approach)"
   ]
  },
  {
   "cell_type": "code",
   "execution_count": 8,
   "metadata": {},
   "outputs": [
    {
     "data": {
      "text/html": [
       "<div>\n",
       "<style scoped>\n",
       "    .dataframe tbody tr th:only-of-type {\n",
       "        vertical-align: middle;\n",
       "    }\n",
       "\n",
       "    .dataframe tbody tr th {\n",
       "        vertical-align: top;\n",
       "    }\n",
       "\n",
       "    .dataframe thead th {\n",
       "        text-align: right;\n",
       "    }\n",
       "</style>\n",
       "<table border=\"1\" class=\"dataframe\">\n",
       "  <thead>\n",
       "    <tr style=\"text-align: right;\">\n",
       "      <th></th>\n",
       "      <th>marketplace</th>\n",
       "      <th>customer_id</th>\n",
       "      <th>review_id</th>\n",
       "      <th>product_id</th>\n",
       "      <th>product_parent</th>\n",
       "      <th>product_title</th>\n",
       "      <th>product_category</th>\n",
       "      <th>star_rating</th>\n",
       "      <th>helpful_votes</th>\n",
       "      <th>total_votes</th>\n",
       "      <th>vine</th>\n",
       "      <th>verified_purchase</th>\n",
       "      <th>review_headline</th>\n",
       "      <th>review_body</th>\n",
       "      <th>review_date</th>\n",
       "    </tr>\n",
       "  </thead>\n",
       "  <tbody>\n",
       "    <tr>\n",
       "      <th>0</th>\n",
       "      <td>US</td>\n",
       "      <td>45610553</td>\n",
       "      <td>RMDCHWD0Y5OZ9</td>\n",
       "      <td>B00HH62VB6</td>\n",
       "      <td>618218723</td>\n",
       "      <td>AGPtek® 10 Isolated Output 9V 12V 18V Guitar P...</td>\n",
       "      <td>Musical Instruments</td>\n",
       "      <td>3</td>\n",
       "      <td>0</td>\n",
       "      <td>1</td>\n",
       "      <td>N</td>\n",
       "      <td>N</td>\n",
       "      <td>Three Stars</td>\n",
       "      <td>Works very good, but induces ALOT of noise.</td>\n",
       "      <td>2015-08-31</td>\n",
       "    </tr>\n",
       "    <tr>\n",
       "      <th>1</th>\n",
       "      <td>US</td>\n",
       "      <td>14640079</td>\n",
       "      <td>RZSL0BALIYUNU</td>\n",
       "      <td>B003LRN53I</td>\n",
       "      <td>986692292</td>\n",
       "      <td>Sennheiser HD203 Closed-Back DJ Headphones</td>\n",
       "      <td>Musical Instruments</td>\n",
       "      <td>5</td>\n",
       "      <td>0</td>\n",
       "      <td>0</td>\n",
       "      <td>N</td>\n",
       "      <td>Y</td>\n",
       "      <td>Five Stars</td>\n",
       "      <td>Nice headphones at a reasonable price.</td>\n",
       "      <td>2015-08-31</td>\n",
       "    </tr>\n",
       "    <tr>\n",
       "      <th>2</th>\n",
       "      <td>US</td>\n",
       "      <td>6111003</td>\n",
       "      <td>RIZR67JKUDBI0</td>\n",
       "      <td>B0006VMBHI</td>\n",
       "      <td>603261968</td>\n",
       "      <td>AudioQuest LP record clean brush</td>\n",
       "      <td>Musical Instruments</td>\n",
       "      <td>3</td>\n",
       "      <td>0</td>\n",
       "      <td>1</td>\n",
       "      <td>N</td>\n",
       "      <td>Y</td>\n",
       "      <td>Three Stars</td>\n",
       "      <td>removes dust. does not clean</td>\n",
       "      <td>2015-08-31</td>\n",
       "    </tr>\n",
       "    <tr>\n",
       "      <th>3</th>\n",
       "      <td>US</td>\n",
       "      <td>1546619</td>\n",
       "      <td>R27HL570VNL85F</td>\n",
       "      <td>B002B55TRG</td>\n",
       "      <td>575084461</td>\n",
       "      <td>Hohner Inc. 560BX-BF Special Twenty Harmonica</td>\n",
       "      <td>Musical Instruments</td>\n",
       "      <td>5</td>\n",
       "      <td>0</td>\n",
       "      <td>0</td>\n",
       "      <td>N</td>\n",
       "      <td>Y</td>\n",
       "      <td>I purchase these for a friend in return for pl...</td>\n",
       "      <td>I purchase these for a friend in return for pl...</td>\n",
       "      <td>2015-08-31</td>\n",
       "    </tr>\n",
       "    <tr>\n",
       "      <th>4</th>\n",
       "      <td>US</td>\n",
       "      <td>12222213</td>\n",
       "      <td>R34EBU9QDWJ1GD</td>\n",
       "      <td>B00N1YPXW2</td>\n",
       "      <td>165236328</td>\n",
       "      <td>Blue Yeti USB Microphone - Blackout Edition</td>\n",
       "      <td>Musical Instruments</td>\n",
       "      <td>5</td>\n",
       "      <td>0</td>\n",
       "      <td>0</td>\n",
       "      <td>N</td>\n",
       "      <td>Y</td>\n",
       "      <td>Five Stars</td>\n",
       "      <td>This is an awesome mic!</td>\n",
       "      <td>2015-08-31</td>\n",
       "    </tr>\n",
       "  </tbody>\n",
       "</table>\n",
       "</div>"
      ],
      "text/plain": [
       "  marketplace customer_id       review_id  product_id product_parent  \\\n",
       "0          US    45610553   RMDCHWD0Y5OZ9  B00HH62VB6      618218723   \n",
       "1          US    14640079   RZSL0BALIYUNU  B003LRN53I      986692292   \n",
       "2          US     6111003   RIZR67JKUDBI0  B0006VMBHI      603261968   \n",
       "3          US     1546619  R27HL570VNL85F  B002B55TRG      575084461   \n",
       "4          US    12222213  R34EBU9QDWJ1GD  B00N1YPXW2      165236328   \n",
       "\n",
       "                                       product_title     product_category  \\\n",
       "0  AGPtek® 10 Isolated Output 9V 12V 18V Guitar P...  Musical Instruments   \n",
       "1         Sennheiser HD203 Closed-Back DJ Headphones  Musical Instruments   \n",
       "2                   AudioQuest LP record clean brush  Musical Instruments   \n",
       "3      Hohner Inc. 560BX-BF Special Twenty Harmonica  Musical Instruments   \n",
       "4        Blue Yeti USB Microphone - Blackout Edition  Musical Instruments   \n",
       "\n",
       "   star_rating  helpful_votes  total_votes vine verified_purchase  \\\n",
       "0            3              0            1    N                 N   \n",
       "1            5              0            0    N                 Y   \n",
       "2            3              0            1    N                 Y   \n",
       "3            5              0            0    N                 Y   \n",
       "4            5              0            0    N                 Y   \n",
       "\n",
       "                                     review_headline  \\\n",
       "0                                        Three Stars   \n",
       "1                                         Five Stars   \n",
       "2                                        Three Stars   \n",
       "3  I purchase these for a friend in return for pl...   \n",
       "4                                         Five Stars   \n",
       "\n",
       "                                         review_body review_date  \n",
       "0        Works very good, but induces ALOT of noise.  2015-08-31  \n",
       "1             Nice headphones at a reasonable price.  2015-08-31  \n",
       "2                       removes dust. does not clean  2015-08-31  \n",
       "3  I purchase these for a friend in return for pl...  2015-08-31  \n",
       "4                            This is an awesome mic!  2015-08-31  "
      ]
     },
     "execution_count": 8,
     "metadata": {},
     "output_type": "execute_result"
    }
   ],
   "source": [
    "#----------------------------------------------\n",
    "# Your code starts here\n",
    "#   Please add comments or text cells in between to explain the general idea of each block of the code.\n",
    "#   Please feel free to add more cells below this cell if necessary\n",
    "df = pd.DataFrame(dataset)# Storing in dataframe\n",
    "df.head()"
   ]
  },
  {
   "cell_type": "code",
   "execution_count": 9,
   "metadata": {},
   "outputs": [
    {
     "name": "stdout",
     "output_type": "stream",
     "text": [
      "[1 2 3 4 5]\n"
     ]
    }
   ],
   "source": [
    "print(np.unique(df['star_rating']))"
   ]
  },
  {
   "cell_type": "code",
   "execution_count": 10,
   "metadata": {},
   "outputs": [],
   "source": [
    "matrix = df.pivot_table(index='product_id', columns='customer_id', values='star_rating').fillna(0)"
   ]
  },
  {
   "cell_type": "code",
   "execution_count": 11,
   "metadata": {},
   "outputs": [
    {
     "data": {
      "text/plain": [
       "3.0"
      ]
     },
     "execution_count": 11,
     "metadata": {},
     "output_type": "execute_result"
    }
   ],
   "source": [
    "matrix.loc['B00HH62VB6','45610553']"
   ]
  },
  {
   "cell_type": "code",
   "execution_count": 12,
   "metadata": {},
   "outputs": [
    {
     "data": {
      "text/plain": [
       "(11182, 15342)"
      ]
     },
     "execution_count": 12,
     "metadata": {},
     "output_type": "execute_result"
    }
   ],
   "source": [
    "matrix.shape"
   ]
  },
  {
   "cell_type": "code",
   "execution_count": 13,
   "metadata": {},
   "outputs": [],
   "source": [
    "# meatrix = matrix.subtract(matrix.mean(axis=1), axis = 0)\n",
    "# matrix.head()"
   ]
  },
  {
   "cell_type": "code",
   "execution_count": 14,
   "metadata": {},
   "outputs": [
    {
     "data": {
      "text/plain": [
       "1373.447394"
      ]
     },
     "execution_count": 14,
     "metadata": {},
     "output_type": "execute_result"
    }
   ],
   "source": [
    "import sys\n",
    "sys.getsizeof(matrix)/1000000"
   ]
  },
  {
   "cell_type": "code",
   "execution_count": 15,
   "metadata": {},
   "outputs": [],
   "source": [
    "# matrix=matrix.to_dict('records')"
   ]
  },
  {
   "cell_type": "code",
   "execution_count": 16,
   "metadata": {},
   "outputs": [],
   "source": [
    "usersPerItem = defaultdict(set)"
   ]
  },
  {
   "cell_type": "code",
   "execution_count": 8,
   "metadata": {},
   "outputs": [],
   "source": [
    "reviewsPerUser = defaultdict(list)\n",
    "reviewsPerItem = defaultdict(list)\n",
    "for d in dataset:\n",
    "    user,item = d['customer_id'], d['product_id']\n",
    "    reviewsPerUser[user].append(d)\n",
    "    reviewsPerItem[item].append(d)"
   ]
  },
  {
   "cell_type": "markdown",
   "metadata": {},
   "source": [
    "3. Implement cosine function and rating prediction function by using the cosine function. If a hasn't rated any similar items before, then return ratingMean (i.e., global rating mean). Refer to predictRating() in hw4jaccard.ipynb"
   ]
  },
  {
   "cell_type": "code",
   "execution_count": 18,
   "metadata": {},
   "outputs": [],
   "source": [
    "#----------------------------------------------\n",
    "# Your code starts here\n",
    "#   Please add comments or text cells in between to explain the general idea of each block of the code.\n",
    "#   Please feel free to add more cells below this cell if necessary\n",
    "\n",
    "    "
   ]
  },
  {
   "cell_type": "code",
   "execution_count": 9,
   "metadata": {},
   "outputs": [],
   "source": [
    "def Cosine(s1,s2):\n",
    "    s1=np.array(s1)\n",
    "    s2=np.array(s2)\n",
    "    for i in range(len(s1)):\n",
    "        if s1[i]!=0:\n",
    "            s1[i]=s1[i]-np.mean(s1)\n",
    "        if s2[i]!=0:\n",
    "              s2[i]=s2[i]-np.mean(s2)\n",
    "              \n",
    "    return np.round(np.dot(s1,s2)/(np.sqrt((s1*s1).sum())*np.sqrt((s2*s2).sum())),4)\n",
    "\n",
    "\n",
    "ratingMean = sum([d['star_rating'] for d in dataset]) / len(dataset)\n",
    "\n",
    "def predictRatingCosine(user,item):\n",
    "    #print(i)\n",
    "    ratings = []\n",
    "    similarities = []\n",
    "    for d in reviewsPerUser[user]:\n",
    "        i2 = d['product_id']\n",
    "        if i2 == item: continue\n",
    "        ratings.append(matrix.loc[i2,user])\n",
    "        similarities.append(Cosine(matrix.loc[i2].values,matrix.loc[item].values))\n",
    "    if (sum(similarities) > 0):\n",
    "        weightedRatings = [(x*y) for x,y in zip(ratings,similarities)]\n",
    "        return sum(weightedRatings) / sum(similarities)\n",
    "    else:\n",
    "        # User hasn't rated any similar items\n",
    "        return ratingMean\n",
    "\n",
    "\n",
    "    \n",
    "    \n",
    "    "
   ]
  },
  {
   "cell_type": "code",
   "execution_count": 23,
   "metadata": {},
   "outputs": [],
   "source": [
    "labels = [d['star_rating'] for d in dataset]"
   ]
  },
  {
   "cell_type": "markdown",
   "metadata": {},
   "source": [
    "4. Measure and report MSE (don't need to change the below code)"
   ]
  },
  {
   "cell_type": "code",
   "execution_count": 11,
   "metadata": {},
   "outputs": [
    {
     "ename": "NameError",
     "evalue": "name 'matrix' is not defined",
     "output_type": "error",
     "traceback": [
      "\u001b[1;31m---------------------------------------------------------------------------\u001b[0m",
      "\u001b[1;31mNameError\u001b[0m                                 Traceback (most recent call last)",
      "Cell \u001b[1;32mIn[11], line 5\u001b[0m\n\u001b[0;32m      2\u001b[0m     differences \u001b[38;5;241m=\u001b[39m [(x\u001b[38;5;241m-\u001b[39my)\u001b[38;5;241m*\u001b[39m\u001b[38;5;241m*\u001b[39m\u001b[38;5;241m2\u001b[39m \u001b[38;5;28;01mfor\u001b[39;00m x,y \u001b[38;5;129;01min\u001b[39;00m \u001b[38;5;28mzip\u001b[39m(predictions,labels)]\n\u001b[0;32m      3\u001b[0m     \u001b[38;5;28;01mreturn\u001b[39;00m \u001b[38;5;28msum\u001b[39m(differences) \u001b[38;5;241m/\u001b[39m \u001b[38;5;28mlen\u001b[39m(differences)\n\u001b[1;32m----> 5\u001b[0m cfPredictions \u001b[38;5;241m=\u001b[39m \u001b[43m[\u001b[49m\u001b[43mpredictRatingCosine\u001b[49m\u001b[43m(\u001b[49m\u001b[43md\u001b[49m\u001b[43m[\u001b[49m\u001b[38;5;124;43m'\u001b[39;49m\u001b[38;5;124;43mcustomer_id\u001b[39;49m\u001b[38;5;124;43m'\u001b[39;49m\u001b[43m]\u001b[49m\u001b[43m,\u001b[49m\u001b[43m \u001b[49m\u001b[43md\u001b[49m\u001b[43m[\u001b[49m\u001b[38;5;124;43m'\u001b[39;49m\u001b[38;5;124;43mproduct_id\u001b[39;49m\u001b[38;5;124;43m'\u001b[39;49m\u001b[43m]\u001b[49m\u001b[43m)\u001b[49m\u001b[43m \u001b[49m\u001b[38;5;28;43;01mfor\u001b[39;49;00m\u001b[43m \u001b[49m\u001b[43md\u001b[49m\u001b[43m \u001b[49m\u001b[38;5;129;43;01min\u001b[39;49;00m\u001b[43m \u001b[49m\u001b[43mdataset\u001b[49m\u001b[43m]\u001b[49m\n\u001b[0;32m      6\u001b[0m \u001b[38;5;28mprint\u001b[39m(MSE(cfPredictions, labels))\n",
      "Cell \u001b[1;32mIn[11], line 5\u001b[0m, in \u001b[0;36m<listcomp>\u001b[1;34m(.0)\u001b[0m\n\u001b[0;32m      2\u001b[0m     differences \u001b[38;5;241m=\u001b[39m [(x\u001b[38;5;241m-\u001b[39my)\u001b[38;5;241m*\u001b[39m\u001b[38;5;241m*\u001b[39m\u001b[38;5;241m2\u001b[39m \u001b[38;5;28;01mfor\u001b[39;00m x,y \u001b[38;5;129;01min\u001b[39;00m \u001b[38;5;28mzip\u001b[39m(predictions,labels)]\n\u001b[0;32m      3\u001b[0m     \u001b[38;5;28;01mreturn\u001b[39;00m \u001b[38;5;28msum\u001b[39m(differences) \u001b[38;5;241m/\u001b[39m \u001b[38;5;28mlen\u001b[39m(differences)\n\u001b[1;32m----> 5\u001b[0m cfPredictions \u001b[38;5;241m=\u001b[39m [\u001b[43mpredictRatingCosine\u001b[49m\u001b[43m(\u001b[49m\u001b[43md\u001b[49m\u001b[43m[\u001b[49m\u001b[38;5;124;43m'\u001b[39;49m\u001b[38;5;124;43mcustomer_id\u001b[39;49m\u001b[38;5;124;43m'\u001b[39;49m\u001b[43m]\u001b[49m\u001b[43m,\u001b[49m\u001b[43m \u001b[49m\u001b[43md\u001b[49m\u001b[43m[\u001b[49m\u001b[38;5;124;43m'\u001b[39;49m\u001b[38;5;124;43mproduct_id\u001b[39;49m\u001b[38;5;124;43m'\u001b[39;49m\u001b[43m]\u001b[49m\u001b[43m)\u001b[49m \u001b[38;5;28;01mfor\u001b[39;00m d \u001b[38;5;129;01min\u001b[39;00m dataset]\n\u001b[0;32m      6\u001b[0m \u001b[38;5;28mprint\u001b[39m(MSE(cfPredictions, labels))\n",
      "Cell \u001b[1;32mIn[9], line 22\u001b[0m, in \u001b[0;36mpredictRatingCosine\u001b[1;34m(user, item)\u001b[0m\n\u001b[0;32m     20\u001b[0m     i2 \u001b[38;5;241m=\u001b[39m d[\u001b[38;5;124m'\u001b[39m\u001b[38;5;124mproduct_id\u001b[39m\u001b[38;5;124m'\u001b[39m]\n\u001b[0;32m     21\u001b[0m     \u001b[38;5;28;01mif\u001b[39;00m i2 \u001b[38;5;241m==\u001b[39m item: \u001b[38;5;28;01mcontinue\u001b[39;00m\n\u001b[1;32m---> 22\u001b[0m     ratings\u001b[38;5;241m.\u001b[39mappend(\u001b[43mmatrix\u001b[49m\u001b[38;5;241m.\u001b[39mloc[i2,user])\n\u001b[0;32m     23\u001b[0m     similarities\u001b[38;5;241m.\u001b[39mappend(Cosine(matrix\u001b[38;5;241m.\u001b[39mloc[i2]\u001b[38;5;241m.\u001b[39mvalues,matrix\u001b[38;5;241m.\u001b[39mloc[item]\u001b[38;5;241m.\u001b[39mvalues))\n\u001b[0;32m     24\u001b[0m \u001b[38;5;28;01mif\u001b[39;00m (\u001b[38;5;28msum\u001b[39m(similarities) \u001b[38;5;241m>\u001b[39m \u001b[38;5;241m0\u001b[39m):\n",
      "\u001b[1;31mNameError\u001b[0m: name 'matrix' is not defined"
     ]
    }
   ],
   "source": [
    "def MSE(predictions, labels):\n",
    "    differences = [(x-y)**2 for x,y in zip(predictions,labels)]\n",
    "    return sum(differences) / len(differences)\n",
    "\n",
    "cfPredictions = [predictRatingCosine(d['customer_id'], d['product_id']) for d in dataset]\n",
    "print(MSE(cfPredictions, labels))"
   ]
  },
  {
   "cell_type": "code",
   "execution_count": 25,
   "metadata": {},
   "outputs": [],
   "source": [
    "alwaysPredictMean = [ratingMean for d in dataset]"
   ]
  },
  {
   "cell_type": "code",
   "execution_count": 26,
   "metadata": {},
   "outputs": [
    {
     "data": {
      "text/plain": [
       "1.4803161599999557"
      ]
     },
     "execution_count": 26,
     "metadata": {},
     "output_type": "execute_result"
    }
   ],
   "source": [
    "MSE(alwaysPredictMean, labels)"
   ]
  },
  {
   "cell_type": "markdown",
   "metadata": {},
   "source": [
    "(optional/bonus task: you will get additional 25 points) \n",
    "download https://web.cs.wpi.edu/~kmlee/cs547/amazon_reviews_us_Musical_Instruments_v1_00_large.tsv.gz\n",
    "this dataset contains over 900K user-item reviews. repeat the above process (i.e., meauring MSE with cosine). report the MSE and compare it with MSE of alwaysPredictMean. This optional task would require better data structure and implementation."
   ]
  },
  {
   "cell_type": "code",
   "execution_count": 16,
   "metadata": {},
   "outputs": [],
   "source": [
    "#----------------------------------------------\n",
    "# Your code starts here\n",
    "#   Please add comments or text cells in between to explain the general idea of each block of the code.\n",
    "#   Please feel free to add more cells below this cell if necessary\n",
    "path = \"./amazon_reviews_us_Musical_Instruments_v1_00_large.tsv.gz\"\n",
    "f = gzip.open(path, 'rt', encoding=\"utf8\")\n",
    "\n",
    "header = f.readline()\n",
    "header = header.strip().split('\\t')"
   ]
  },
  {
   "cell_type": "code",
   "execution_count": 17,
   "metadata": {},
   "outputs": [
    {
     "data": {
      "text/html": [
       "<div>\n",
       "<style scoped>\n",
       "    .dataframe tbody tr th:only-of-type {\n",
       "        vertical-align: middle;\n",
       "    }\n",
       "\n",
       "    .dataframe tbody tr th {\n",
       "        vertical-align: top;\n",
       "    }\n",
       "\n",
       "    .dataframe thead th {\n",
       "        text-align: right;\n",
       "    }\n",
       "</style>\n",
       "<table border=\"1\" class=\"dataframe\">\n",
       "  <thead>\n",
       "    <tr style=\"text-align: right;\">\n",
       "      <th></th>\n",
       "      <th>marketplace</th>\n",
       "      <th>customer_id</th>\n",
       "      <th>review_id</th>\n",
       "      <th>product_id</th>\n",
       "      <th>product_parent</th>\n",
       "      <th>product_title</th>\n",
       "      <th>product_category</th>\n",
       "      <th>star_rating</th>\n",
       "      <th>helpful_votes</th>\n",
       "      <th>total_votes</th>\n",
       "      <th>vine</th>\n",
       "      <th>verified_purchase</th>\n",
       "      <th>review_headline</th>\n",
       "      <th>review_body</th>\n",
       "      <th>review_date</th>\n",
       "    </tr>\n",
       "  </thead>\n",
       "  <tbody>\n",
       "    <tr>\n",
       "      <th>0</th>\n",
       "      <td>US</td>\n",
       "      <td>45610553</td>\n",
       "      <td>RMDCHWD0Y5OZ9</td>\n",
       "      <td>B00HH62VB6</td>\n",
       "      <td>618218723</td>\n",
       "      <td>AGPtek® 10 Isolated Output 9V 12V 18V Guitar P...</td>\n",
       "      <td>Musical Instruments</td>\n",
       "      <td>3</td>\n",
       "      <td>0</td>\n",
       "      <td>1</td>\n",
       "      <td>N</td>\n",
       "      <td>N</td>\n",
       "      <td>Three Stars</td>\n",
       "      <td>Works very good, but induces ALOT of noise.</td>\n",
       "      <td>2015-08-31</td>\n",
       "    </tr>\n",
       "    <tr>\n",
       "      <th>1</th>\n",
       "      <td>US</td>\n",
       "      <td>14640079</td>\n",
       "      <td>RZSL0BALIYUNU</td>\n",
       "      <td>B003LRN53I</td>\n",
       "      <td>986692292</td>\n",
       "      <td>Sennheiser HD203 Closed-Back DJ Headphones</td>\n",
       "      <td>Musical Instruments</td>\n",
       "      <td>5</td>\n",
       "      <td>0</td>\n",
       "      <td>0</td>\n",
       "      <td>N</td>\n",
       "      <td>Y</td>\n",
       "      <td>Five Stars</td>\n",
       "      <td>Nice headphones at a reasonable price.</td>\n",
       "      <td>2015-08-31</td>\n",
       "    </tr>\n",
       "    <tr>\n",
       "      <th>2</th>\n",
       "      <td>US</td>\n",
       "      <td>6111003</td>\n",
       "      <td>RIZR67JKUDBI0</td>\n",
       "      <td>B0006VMBHI</td>\n",
       "      <td>603261968</td>\n",
       "      <td>AudioQuest LP record clean brush</td>\n",
       "      <td>Musical Instruments</td>\n",
       "      <td>3</td>\n",
       "      <td>0</td>\n",
       "      <td>1</td>\n",
       "      <td>N</td>\n",
       "      <td>Y</td>\n",
       "      <td>Three Stars</td>\n",
       "      <td>removes dust. does not clean</td>\n",
       "      <td>2015-08-31</td>\n",
       "    </tr>\n",
       "    <tr>\n",
       "      <th>3</th>\n",
       "      <td>US</td>\n",
       "      <td>1546619</td>\n",
       "      <td>R27HL570VNL85F</td>\n",
       "      <td>B002B55TRG</td>\n",
       "      <td>575084461</td>\n",
       "      <td>Hohner Inc. 560BX-BF Special Twenty Harmonica</td>\n",
       "      <td>Musical Instruments</td>\n",
       "      <td>5</td>\n",
       "      <td>0</td>\n",
       "      <td>0</td>\n",
       "      <td>N</td>\n",
       "      <td>Y</td>\n",
       "      <td>I purchase these for a friend in return for pl...</td>\n",
       "      <td>I purchase these for a friend in return for pl...</td>\n",
       "      <td>2015-08-31</td>\n",
       "    </tr>\n",
       "    <tr>\n",
       "      <th>4</th>\n",
       "      <td>US</td>\n",
       "      <td>12222213</td>\n",
       "      <td>R34EBU9QDWJ1GD</td>\n",
       "      <td>B00N1YPXW2</td>\n",
       "      <td>165236328</td>\n",
       "      <td>Blue Yeti USB Microphone - Blackout Edition</td>\n",
       "      <td>Musical Instruments</td>\n",
       "      <td>5</td>\n",
       "      <td>0</td>\n",
       "      <td>0</td>\n",
       "      <td>N</td>\n",
       "      <td>Y</td>\n",
       "      <td>Five Stars</td>\n",
       "      <td>This is an awesome mic!</td>\n",
       "      <td>2015-08-31</td>\n",
       "    </tr>\n",
       "  </tbody>\n",
       "</table>\n",
       "</div>"
      ],
      "text/plain": [
       "  marketplace customer_id       review_id  product_id product_parent  \\\n",
       "0          US    45610553   RMDCHWD0Y5OZ9  B00HH62VB6      618218723   \n",
       "1          US    14640079   RZSL0BALIYUNU  B003LRN53I      986692292   \n",
       "2          US     6111003   RIZR67JKUDBI0  B0006VMBHI      603261968   \n",
       "3          US     1546619  R27HL570VNL85F  B002B55TRG      575084461   \n",
       "4          US    12222213  R34EBU9QDWJ1GD  B00N1YPXW2      165236328   \n",
       "\n",
       "                                       product_title     product_category  \\\n",
       "0  AGPtek® 10 Isolated Output 9V 12V 18V Guitar P...  Musical Instruments   \n",
       "1         Sennheiser HD203 Closed-Back DJ Headphones  Musical Instruments   \n",
       "2                   AudioQuest LP record clean brush  Musical Instruments   \n",
       "3      Hohner Inc. 560BX-BF Special Twenty Harmonica  Musical Instruments   \n",
       "4        Blue Yeti USB Microphone - Blackout Edition  Musical Instruments   \n",
       "\n",
       "   star_rating  helpful_votes  total_votes vine verified_purchase  \\\n",
       "0            3              0            1    N                 N   \n",
       "1            5              0            0    N                 Y   \n",
       "2            3              0            1    N                 Y   \n",
       "3            5              0            0    N                 Y   \n",
       "4            5              0            0    N                 Y   \n",
       "\n",
       "                                     review_headline  \\\n",
       "0                                        Three Stars   \n",
       "1                                         Five Stars   \n",
       "2                                        Three Stars   \n",
       "3  I purchase these for a friend in return for pl...   \n",
       "4                                         Five Stars   \n",
       "\n",
       "                                         review_body review_date  \n",
       "0        Works very good, but induces ALOT of noise.  2015-08-31  \n",
       "1             Nice headphones at a reasonable price.  2015-08-31  \n",
       "2                       removes dust. does not clean  2015-08-31  \n",
       "3  I purchase these for a friend in return for pl...  2015-08-31  \n",
       "4                            This is an awesome mic!  2015-08-31  "
      ]
     },
     "execution_count": 17,
     "metadata": {},
     "output_type": "execute_result"
    }
   ],
   "source": [
    "dataset = []\n",
    "for line in f:\n",
    "    fields = line.strip().split('\\t')\n",
    "    d = dict(zip(header, fields))\n",
    "    d['star_rating'] = int(d['star_rating'])\n",
    "    d['helpful_votes'] = int(d['helpful_votes'])\n",
    "    d['total_votes'] = int(d['total_votes'])\n",
    "    d['customer_id']=str(d['customer_id'])\n",
    "    d['product_id']=str(d['product_id'])\n",
    "    dataset.append(d)\n",
    "    \n",
    "df = pd.DataFrame(dataset)# Storing in dataframe\n",
    "df.head()"
   ]
  },
  {
   "cell_type": "code",
   "execution_count": 18,
   "metadata": {},
   "outputs": [
    {
     "ename": "NameError",
     "evalue": "name 'sparse' is not defined",
     "output_type": "error",
     "traceback": [
      "\u001b[1;31m---------------------------------------------------------------------------\u001b[0m",
      "\u001b[1;31mNameError\u001b[0m                                 Traceback (most recent call last)",
      "Cell \u001b[1;32mIn[18], line 2\u001b[0m\n\u001b[0;32m      1\u001b[0m \u001b[38;5;66;03m#matrix = df.pivot_table(index='product_id', columns='customer_id', values='star_rating').fillna(0)\u001b[39;00m\n\u001b[1;32m----> 2\u001b[0m matrix\u001b[38;5;241m=\u001b[39m \u001b[43msparse\u001b[49m\u001b[38;5;241m.\u001b[39mcoo_matrix((data, (row, col)), shape\u001b[38;5;241m=\u001b[39m(\u001b[38;5;241m4\u001b[39m, \u001b[38;5;241m4\u001b[39m))\n",
      "\u001b[1;31mNameError\u001b[0m: name 'sparse' is not defined"
     ]
    }
   ],
   "source": [
    "#matrix = df.pivot_table(index='product_id', columns='customer_id', values='star_rating').fillna(0)\n",
    "matrix= sparse.coo_matrix((data, (row, col)), shape=(4, 4))"
   ]
  },
  {
   "cell_type": "code",
   "execution_count": 19,
   "metadata": {},
   "outputs": [
    {
     "ename": "NameError",
     "evalue": "name 'matrix' is not defined",
     "output_type": "error",
     "traceback": [
      "\u001b[1;31m---------------------------------------------------------------------------\u001b[0m",
      "\u001b[1;31mNameError\u001b[0m                                 Traceback (most recent call last)",
      "Cell \u001b[1;32mIn[19], line 44\u001b[0m\n\u001b[0;32m     41\u001b[0m     differences \u001b[38;5;241m=\u001b[39m [(x\u001b[38;5;241m-\u001b[39my)\u001b[38;5;241m*\u001b[39m\u001b[38;5;241m*\u001b[39m\u001b[38;5;241m2\u001b[39m \u001b[38;5;28;01mfor\u001b[39;00m x,y \u001b[38;5;129;01min\u001b[39;00m \u001b[38;5;28mzip\u001b[39m(predictions,labels)]\n\u001b[0;32m     42\u001b[0m     \u001b[38;5;28;01mreturn\u001b[39;00m \u001b[38;5;28msum\u001b[39m(differences) \u001b[38;5;241m/\u001b[39m \u001b[38;5;28mlen\u001b[39m(differences)\n\u001b[1;32m---> 44\u001b[0m cfPredictions \u001b[38;5;241m=\u001b[39m \u001b[43m[\u001b[49m\u001b[43mpredictRatingCosine\u001b[49m\u001b[43m(\u001b[49m\u001b[43md\u001b[49m\u001b[43m[\u001b[49m\u001b[38;5;124;43m'\u001b[39;49m\u001b[38;5;124;43mcustomer_id\u001b[39;49m\u001b[38;5;124;43m'\u001b[39;49m\u001b[43m]\u001b[49m\u001b[43m,\u001b[49m\u001b[43m \u001b[49m\u001b[43md\u001b[49m\u001b[43m[\u001b[49m\u001b[38;5;124;43m'\u001b[39;49m\u001b[38;5;124;43mproduct_id\u001b[39;49m\u001b[38;5;124;43m'\u001b[39;49m\u001b[43m]\u001b[49m\u001b[43m)\u001b[49m\u001b[43m \u001b[49m\u001b[38;5;28;43;01mfor\u001b[39;49;00m\u001b[43m \u001b[49m\u001b[43md\u001b[49m\u001b[43m \u001b[49m\u001b[38;5;129;43;01min\u001b[39;49;00m\u001b[43m \u001b[49m\u001b[43mdataset\u001b[49m\u001b[43m]\u001b[49m\n\u001b[0;32m     45\u001b[0m \u001b[38;5;28mprint\u001b[39m(MSE(cfPredictions, labels))\n",
      "Cell \u001b[1;32mIn[19], line 44\u001b[0m, in \u001b[0;36m<listcomp>\u001b[1;34m(.0)\u001b[0m\n\u001b[0;32m     41\u001b[0m     differences \u001b[38;5;241m=\u001b[39m [(x\u001b[38;5;241m-\u001b[39my)\u001b[38;5;241m*\u001b[39m\u001b[38;5;241m*\u001b[39m\u001b[38;5;241m2\u001b[39m \u001b[38;5;28;01mfor\u001b[39;00m x,y \u001b[38;5;129;01min\u001b[39;00m \u001b[38;5;28mzip\u001b[39m(predictions,labels)]\n\u001b[0;32m     42\u001b[0m     \u001b[38;5;28;01mreturn\u001b[39;00m \u001b[38;5;28msum\u001b[39m(differences) \u001b[38;5;241m/\u001b[39m \u001b[38;5;28mlen\u001b[39m(differences)\n\u001b[1;32m---> 44\u001b[0m cfPredictions \u001b[38;5;241m=\u001b[39m [\u001b[43mpredictRatingCosine\u001b[49m\u001b[43m(\u001b[49m\u001b[43md\u001b[49m\u001b[43m[\u001b[49m\u001b[38;5;124;43m'\u001b[39;49m\u001b[38;5;124;43mcustomer_id\u001b[39;49m\u001b[38;5;124;43m'\u001b[39;49m\u001b[43m]\u001b[49m\u001b[43m,\u001b[49m\u001b[43m \u001b[49m\u001b[43md\u001b[49m\u001b[43m[\u001b[49m\u001b[38;5;124;43m'\u001b[39;49m\u001b[38;5;124;43mproduct_id\u001b[39;49m\u001b[38;5;124;43m'\u001b[39;49m\u001b[43m]\u001b[49m\u001b[43m)\u001b[49m \u001b[38;5;28;01mfor\u001b[39;00m d \u001b[38;5;129;01min\u001b[39;00m dataset]\n\u001b[0;32m     45\u001b[0m \u001b[38;5;28mprint\u001b[39m(MSE(cfPredictions, labels))\n",
      "Cell \u001b[1;32mIn[19], line 29\u001b[0m, in \u001b[0;36mpredictRatingCosine\u001b[1;34m(user, item)\u001b[0m\n\u001b[0;32m     27\u001b[0m     i2 \u001b[38;5;241m=\u001b[39m d[\u001b[38;5;124m'\u001b[39m\u001b[38;5;124mproduct_id\u001b[39m\u001b[38;5;124m'\u001b[39m]\n\u001b[0;32m     28\u001b[0m     \u001b[38;5;28;01mif\u001b[39;00m i2 \u001b[38;5;241m==\u001b[39m item: \u001b[38;5;28;01mcontinue\u001b[39;00m\n\u001b[1;32m---> 29\u001b[0m     ratings\u001b[38;5;241m.\u001b[39mappend(\u001b[43mmatrix\u001b[49m\u001b[38;5;241m.\u001b[39mloc[i2,user])\n\u001b[0;32m     30\u001b[0m     similarities\u001b[38;5;241m.\u001b[39mappend(Cosine(matrix\u001b[38;5;241m.\u001b[39mloc[i2]\u001b[38;5;241m.\u001b[39mvalues,matrix\u001b[38;5;241m.\u001b[39mloc[item]\u001b[38;5;241m.\u001b[39mvalues))\n\u001b[0;32m     31\u001b[0m \u001b[38;5;28;01mif\u001b[39;00m (\u001b[38;5;28msum\u001b[39m(similarities) \u001b[38;5;241m>\u001b[39m \u001b[38;5;241m0\u001b[39m):\n",
      "\u001b[1;31mNameError\u001b[0m: name 'matrix' is not defined"
     ]
    }
   ],
   "source": [
    "reviewsPerUser = defaultdict(list)\n",
    "reviewsPerItem = defaultdict(list)\n",
    "for d in dataset:\n",
    "    user,item = d['customer_id'], d['product_id']\n",
    "    reviewsPerUser[user].append(d)\n",
    "    reviewsPerItem[item].append(d)\n",
    "    \n",
    "def Cosine(s1,s2):\n",
    "    s1=np.array(s1)\n",
    "    s2=np.array(s2)\n",
    "    for i in range(len(s1)):\n",
    "        if s1[i]!=0:\n",
    "            s1[i]=s1[i]-np.mean(s1)\n",
    "        if s2[i]!=0:\n",
    "              s2[i]=s2[i]-np.mean(s2)\n",
    "              \n",
    "    return np.round(np.dot(s1,s2)/(np.sqrt((s1*s1).sum())*np.sqrt((s2*s2).sum())),4)\n",
    "\n",
    "\n",
    "ratingMean = sum([d['star_rating'] for d in dataset]) / len(dataset)\n",
    "\n",
    "def predictRatingCosine(user,item):\n",
    "    #print(i)\n",
    "    ratings = []\n",
    "    similarities = []\n",
    "    for d in reviewsPerUser[user]:\n",
    "        i2 = d['product_id']\n",
    "        if i2 == item: continue\n",
    "        ratings.append(matrix.loc[i2,user])\n",
    "        similarities.append(Cosine(matrix.loc[i2].values,matrix.loc[item].values))\n",
    "    if (sum(similarities) > 0):\n",
    "        weightedRatings = [(x*y) for x,y in zip(ratings,similarities)]\n",
    "        return sum(weightedRatings) / sum(similarities)\n",
    "    else:\n",
    "        # User hasn't rated any similar items\n",
    "        return ratingMean\n",
    "\n",
    "labels = [d['star_rating'] for d in dataset]\n",
    "\n",
    "def MSE(predictions, labels):\n",
    "    differences = [(x-y)**2 for x,y in zip(predictions,labels)]\n",
    "    return sum(differences) / len(differences)\n",
    "\n",
    "cfPredictions = [predictRatingCosine(d['customer_id'], d['product_id']) for d in dataset]\n",
    "print(MSE(cfPredictions, labels))"
   ]
  },
  {
   "cell_type": "markdown",
   "metadata": {},
   "source": []
  },
  {
   "cell_type": "markdown",
   "metadata": {},
   "source": [
    "*-----------------\n",
    "# Done\n",
    "\n",
    "All set! \n",
    "\n",
    "** What do you need to submit?**\n",
    "\n",
    "* **hw4.ipynb Notebook File**: Save this Jupyter notebook with all output, and find the notebook file in your folder (for example, \"filename.ipynb\"). This is the file you need to submit. \n",
    "\n",
    "** How to submit: **\n",
    "        Please submit through canvas.wpi.edu\n"
   ]
  },
  {
   "cell_type": "code",
   "execution_count": null,
   "metadata": {},
   "outputs": [],
   "source": []
  }
 ],
 "metadata": {
  "kernelspec": {
   "display_name": "Python 3 (ipykernel)",
   "language": "python",
   "name": "python3"
  },
  "language_info": {
   "codemirror_mode": {
    "name": "ipython",
    "version": 3
   },
   "file_extension": ".py",
   "mimetype": "text/x-python",
   "name": "python",
   "nbconvert_exporter": "python",
   "pygments_lexer": "ipython3",
   "version": "3.11.1"
  }
 },
 "nbformat": 4,
 "nbformat_minor": 2
}
